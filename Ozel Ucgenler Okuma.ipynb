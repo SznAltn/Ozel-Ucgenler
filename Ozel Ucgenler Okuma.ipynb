{
 "cells": [
  {
   "cell_type": "markdown",
   "metadata": {},
   "source": [
    "# Sayılar Kuramı\n",
    "## Özel Üçgenler "
   ]
  },
  {
   "cell_type": "markdown",
   "metadata": {},
   "source": [
    "Lisede öğrendiğimiz hatta bazılarımızın ortaokulda tanıştığı özel üçgenlerde aslında herkesin çok da iyi biliyorum dediği ya da bildiği sandığı ezberlediğimiz ama öğrendiğimizi sandığımız bu güzel konudan bahsetmek istiyorum.\n",
    "\n",
    "Hemen hemen herkesin geometride en sevdiği konudur kenarlarına göre özel üçgenler. \n",
    "Belki de şuan bu yazıyı okurken bile ne var ki 3-4-5, 5-12-13, 8-15-17, 7-24-25,... sadece diyorsunuz içinizden.\n",
    "\n",
    "Şunu sormak istiyorum acaba bunun üzerine hiç düşündünüz mü? Özel üçgenler sadece bunlar mı ya da ya da sadece Pisagor Teoremi mi?\n",
    "\n",
    "-Hayır, değil.\n",
    "\n",
    "Gelin birlikte sayılar kuramının güzelliklerinden faydalanalım ve benim matematikte en sevdiğim konulardan birinin üzerine düşünelim...\n",
    "\n",
    "\n",
    "\n",
    "\n",
    "\n",
    "\n"
   ]
  },
  {
   "cell_type": "markdown",
   "metadata": {},
   "source": [
    "### Tek Sayılarda"
   ]
  },
  {
   "cell_type": "markdown",
   "metadata": {},
   "source": [
    "-Tek sayılar 1,3,5,7,... şeklinde devam eder.3 ile başlayalım(1 de evet tektir ama daha sonra incelenecektir!): \n",
    "\n",
    "Tek sayılarda kural şu; sayımızın karesini alıyoruz ve hangi ardışık iki sayının toplamı diye düşünüyoruz ve bu düşüncenin sonunda bulduğumuz sonuç özel üçgenimizin kenarlarını veriyor. Uygulayalım ve birlikte görelim.\n",
    "\n",
    "* 3 için: 3ün karesi 9,   9 hangi ardışık iki sayının toplamı  4 ve  5. Çıkan sonuç: 3 - 4 - 5    üçgeni\n",
    "\n",
    "* 5 için: 5in karesi 25, 25 hangi ardışık iki sayının toplamı 12 ve 13. Çıkan sonuç: 5 - 12 - 13  üçgeni\n",
    "\n",
    "* 7 için: 7in karesi 49, 49 hangi ardışık iki sayının toplamı 24 ve 25. Çıkan sonuç: 7 - 24 - 25  üçgeni\n",
    "\n",
    "* 9 için: 9in karesi 81, 81 hangi ardışık iki sayının toplamı 40 ve 41. Çıkan sonuç: 9 - 40 - 41  üçgeni\n",
    "\n",
    "Buraya kadar çoğunuz biliyorsunuz lisede test kitaplarında gördüğümüz bilgiler peki ya devamı?\n",
    "\n",
    "* 11 için: 11in karesi 121, 121 hangi ardışık iki sayının toplamı 60 ve 61. Çıkan sonuç: 11 - 60 - 61  üçgeni\n",
    "\n",
    "* 13 için: 13in karesi 169, 169 hangi ardışık iki sayının toplamı 84 ve 85. Çıkan sonuç: 13 - 84 - 85  üçgeni\n",
    "\n",
    "* 15 için: 15in karesi 225, 225 hangi ardışık iki sayının toplamı 112 ve 113. Çıkan sonuç: 15 - 112 - 113  üçgeni\n",
    ".\n",
    ".\n",
    ".\n",
    "\n",
    "Görüldüğü üzere, tek sayılar nasıl sonsuza kadar devam ediyorsa bu yöntemle bu kurala uyan sonsuz tane özel üçgen bulabiliriz.\n",
    "\n",
    "\n"
   ]
  },
  {
   "cell_type": "markdown",
   "metadata": {},
   "source": [
    "### Çift Sayılarda"
   ]
  },
  {
   "cell_type": "markdown",
   "metadata": {},
   "source": [
    "Çift sayılarda ise kuralımız şu:\n",
    "\n",
    "-Önce sayımızın yine karesini al\n",
    "-Bulduğun sonucu ikiye böl\n",
    "-Bu sefer arasında 2 fark olan hangi iki sayının toplamı diye düşün ve özel üçgenleri bul.\n",
    "\n",
    "Görelim...\n",
    "\n",
    "Çift sayılar 0,2,4,6,... şeklinde devam eder. \n",
    "0 uzunluk belirtmediği için üçgen belirtemez.\n",
    "2 nin başka özel bir kuralı fark ve yine bir yazı da karşılaşmak ümidiyle.\n",
    "4 ile başlayalım;\n",
    "\n",
    "* 4  için:  4 ün karesi 16, 2 ye bölünce 8 ve 8 aralarında iki fark olan hangi iki sayının toplamı 3 ve 5. Sonuç: 3 - 4 - 5  üçgeni\n",
    "\n",
    "* 6 için:   6 nın karesi 36, 2 ye bölünce 18 ve 18 aralarında iki fark olan hangi iki sayının toplamı 8 ve 10. Sonuç: 6 - 8 - 10  üçgeni\n",
    "\n",
    "* 8 için: 8 in karesi 64, 2 ye bölünce 32 ve 32 aralarında iki fark olan hangi iki sayının toplamı 15 ve 17. Sonuç: 8 - 15 - 17  üçgeni\n",
    "\n",
    "* 10 için:  10 nun karesi 100, 2 ye bölünce 50 ve 50 aralarında iki fark olan hangi iki sayının toplamı 3 ve 5. Sonuç: 10 - 24 - 26  üçgeni\n",
    "\n",
    "* 12 için:  12 nin karesi 144, 2 ye bölünce 72 ve 72 aralarında iki fark olan hangi iki sayının toplamı 35 ve 37. Sonuç: 12 - 35 - 37  üçgeni\n",
    "\n",
    "* 14 için: 14 ün karesi 196, 2 ye bölünce 98 ve 98 aralarında iki fark olan hangi iki sayının toplamı 48 ve 50. Sonuç: 14 - 48 - 50  üçgeni\n",
    "\n",
    "* 16 için:  16 nın karesi 256, 2 ye bölünce 128 ve 128 aralarında iki fark olan hangi iki sayının toplamı 63 ve 65. Sonuç: 16 - 63 - 65  üçgeni\n",
    "\n",
    ".\n",
    ".\n",
    ".\n",
    " \n",
    " Böyle sonsuza kadar devam eder. Sizler de bu kurallara uyarak özel üçgenler bulabilirsiniz hem de hiçbir kitapta olmayan:))\n",
    " \n",
    " Teşekkürler.\n",
    " \n",
    " Suzan Altun\n",
    "\n",
    "\n",
    "\n"
   ]
  }
 ],
 "metadata": {
  "kernelspec": {
   "display_name": "Python 3",
   "language": "python",
   "name": "python3"
  },
  "language_info": {
   "codemirror_mode": {
    "name": "ipython",
    "version": 3
   },
   "file_extension": ".py",
   "mimetype": "text/x-python",
   "name": "python",
   "nbconvert_exporter": "python",
   "pygments_lexer": "ipython3",
   "version": "3.8.3"
  }
 },
 "nbformat": 4,
 "nbformat_minor": 4
}
